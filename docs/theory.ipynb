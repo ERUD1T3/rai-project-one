{
 "cells": [
  {
   "cell_type": "markdown",
   "metadata": {},
   "source": [
    "# CSE 5694 - Robotics and AI - Project 1 \n",
    "\n",
    "This project aims at implementing a sensor fusion module based on a Bayesian Network whereby the robot (NAO), when moving along a wall using it's sensors,  decides: \n",
    "- whether it has just passed by a door 10cm ago.\n",
    "- what is it's actual distance from the wall (as a probability distribution)\n",
    "\n",
    "## Team\n",
    "\n",
    "- Josias Moukpe jmoukpe2016@my.fit.edu \n",
    "- William Stern Wstern2019@my.fit.edu\n",
    "- Akill Hosang Ahosang2021@my.fit.edu\n",
    "- Ancuta ancuta@knights.ucf.edu \n",
    "\n",
    "## Description\n",
    "\n",
    "Our aim is to implement a sensor fusion module based on a Bayesian Network. We are working with the NAO robot from Softbank robotics. NAO is a bipedal robot with a remarkable suite of sensors. However, for this project, we will focus on using NAO's sonar sensors to measure its distance to the wall. NAO will side step along the wall and, when has moved 0.1 meters past an open door, will exclaim \"I just past the door!\". \n",
    "To build the Bayesian Network, we have devised the following random variables:\n",
    "\n",
    "- D: the event of passing by the door (True/False) \n",
    "- $Z_t$: observation or distance from the wall reported by sonar at time $t$ being less than a threshold (True/False)\n",
    "- $A_t$: action or whether the robot has moved either forward or backward (True) or not moved (False).  (True/False)\n",
    "- $t$: timestep variable. Each timestep is 1 second and the robot will move about 0.1 meters per timestep for a total of 2 meters in a 20s overal timestep window.\n",
    "\n",
    "\n",
    "From there then follows the Bayesian Network below:\n",
    "\n",
    "#### 20 seconds Time window Bayesion Network\n",
    "<img src=\"bn.png\" >\n",
    "\n",
    "Based on the Network, we would like to find $P(D = true | A_1, A_2 ..., A_{20})$ as the probability that the robot passed by the door given the actions it has taken until the last timestep. It depends on the actions because, as the robot moves along the ways, it is trying to maintain constant distance from the wall and will adjust it's trajectory to maintain course. If the robot sense 2 major course correction due to a change the measured distance from the wall, then we know, it has passed an opened door.\n",
    "\n",
    "## Appendix\n",
    "- measurements source code: \n",
    "- cpt computing source code:\n",
    "- sensor fusion computing source code:\n",
    "- project repository: https://github.com/ERUD1T3/rai-project-one\n",
    "\n",
    "## References\n",
    "\n",
    "[1] https://www.cs.cmu.edu/~cga/nao/doc/user-guide.pdf\\\n",
    "[2] http://doc.aldebaran.com/1-14/naoqi/motion/control-walk-api.html#ALMotionProxy::move__floatCR.floatCR.floatCR\\\n",
    "[3] https://cs.fit.edu/~msilaghi/nao_windows/\\"
   ]
  }
 ],
 "metadata": {
  "kernelspec": {
   "display_name": "Python 2.7.18 ('py27')",
   "language": "python",
   "name": "python3"
  },
  "language_info": {
   "name": "python",
   "version": "2.7.18"
  },
  "orig_nbformat": 4,
  "vscode": {
   "interpreter": {
    "hash": "958a2b4a59b7abc88829df6517aa1013ec26cb040891a4ec3c3f6f106102dc57"
   }
  }
 },
 "nbformat": 4,
 "nbformat_minor": 2
}
